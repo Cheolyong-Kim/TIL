{
 "cells": [
  {
   "cell_type": "code",
   "execution_count": 1,
   "id": "f70b318a",
   "metadata": {},
   "outputs": [],
   "source": [
    "import pandas as pd\n",
    "import numpy as np\n",
    "\n",
    "from bs4 import BeautifulSoup\n",
    "from selenium import webdriver\n",
    "from selenium.webdriver.common.keys import Keys\n",
    "import chromedriver_autoinstaller\n",
    "\n",
    "import time\n",
    "from tqdm import tqdm_notebook\n",
    "\n",
    "import warnings\n",
    "warnings.filterwarnings('ignore')"
   ]
  },
  {
   "cell_type": "code",
   "execution_count": 2,
   "id": "a0389813",
   "metadata": {},
   "outputs": [],
   "source": [
    "query_txt = 'msi'"
   ]
  },
  {
   "cell_type": "code",
   "execution_count": 3,
   "id": "ddccbd20",
   "metadata": {},
   "outputs": [],
   "source": [
    "chrome_path = chromedriver_autoinstaller.install()\n",
    "driver = webdriver.Chrome(chrome_path)\n",
    "\n",
    "driver.get('https://lol.inven.co.kr/')\n",
    "time.sleep(2)"
   ]
  },
  {
   "cell_type": "code",
   "execution_count": 4,
   "id": "ce150dda",
   "metadata": {},
   "outputs": [],
   "source": [
    "element = driver.find_element_by_name('keyword')\n",
    "element.send_keys(query_txt)\n",
    "element.submit()\n",
    "time.sleep(1)"
   ]
  },
  {
   "cell_type": "code",
   "execution_count": 5,
   "id": "cf47ff31",
   "metadata": {},
   "outputs": [],
   "source": [
    "driver.find_element_by_link_text('게시판 더보기').click()\n",
    "time.sleep(2)"
   ]
  },
  {
   "cell_type": "code",
   "execution_count": 6,
   "id": "d692c3af",
   "metadata": {},
   "outputs": [],
   "source": [
    "driver.find_element_by_link_text('최신순').click()\n",
    "time.sleep(2)"
   ]
  },
  {
   "cell_type": "code",
   "execution_count": 7,
   "id": "720a9157",
   "metadata": {},
   "outputs": [
    {
     "data": {
      "text/plain": [
       "<selenium.webdriver.remote.webelement.WebElement (session=\"ecff4201d560a8edb740bc95dfc1af67\", element=\"812c25bf-bf97-4f2d-9a83-72eed914b3fa\")>"
      ]
     },
     "execution_count": 7,
     "metadata": {},
     "output_type": "execute_result"
    }
   ],
   "source": [
    "url_list = []\n",
    "title_list = []\n",
    "\n",
    "articles = '.item .name'\n",
    "article_raw = driver.find_elements_by_css_selector(articles)\n",
    "article_raw[0]"
   ]
  },
  {
   "cell_type": "code",
   "execution_count": 8,
   "id": "bb9abdc2",
   "metadata": {},
   "outputs": [
    {
     "data": {
      "text/plain": [
       "'https://www.inven.co.kr/board/lol/4625/3363885'"
      ]
     },
     "execution_count": 8,
     "metadata": {},
     "output_type": "execute_result"
    }
   ],
   "source": [
    "article_raw[0].get_attribute('href')"
   ]
  },
  {
   "cell_type": "code",
   "execution_count": 9,
   "id": "bb2b61d8",
   "metadata": {},
   "outputs": [
    {
     "name": "stdout",
     "output_type": "stream",
     "text": [
      "애초에 RNG는 MSI 우승해봐야 정당하지가 않지.\n",
      "msi 4강서 북미가 중국잡고 지투가 t1잡고 하지 않았나?\n",
      "내가 돌리는 MSI 최고의 행복회로\n",
      "이번 msi mvp는 제우스vs갈라 경쟁일거같음\n",
      "지금 시점 MSI 퍼스트 팀 어케 됌?\n",
      "msi에서 확실히 눈에 띄는건 제우스 갈라네\n",
      "제우스< msi 전라인 통틀어서 역체포스\n",
      "사이공 어제 오늘 경기력은 좋았는데 아깝네\n",
      "근데 동준이형 이제 해설안함??\n",
      "사실 제일 화끈한 팀이 T1이야\n",
      "19msi ig vs 팀리퀴드는\n",
      "g2 msi 우승할때 그룹별 5승5패 아니었나\n",
      "결국 rng 앞에서 다 평등한 대회 되는 거냐..\n",
      "지방방송 미안하지만...애들아 근데 이니 제니..(?) 레벨업...(?)이 뭐야???\n",
      "msi 그냥 미드는 아리가답이다\n",
      "아리 리신 이거 조합 ㅈㄴ 좋은거 같은데\n",
      "티원 MSI 4강 확정...\n",
      "지금 MSI 미드 챔프폭 자체가 기형적일 수 밖에 없음\n",
      "현재까지 msi 밴픽률 TOP 10\n",
      "지금 msi 매타에 각라인별 쓸만한카드 머있음?\n",
      "\n",
      "url갯수:  20\n",
      "title갯수:  20\n"
     ]
    }
   ],
   "source": [
    "for article in article_raw:\n",
    "    url = article.get_attribute('href')\n",
    "    url_list.append(url)\n",
    "time.sleep(1)\n",
    "\n",
    "for article in article_raw:\n",
    "    title = article.text\n",
    "    title_list.append(title)\n",
    "\n",
    "    print(title)\n",
    "\n",
    "print('')\n",
    "print('url갯수: ', len(url_list))\n",
    "print('title갯수: ', len(title_list))"
   ]
  },
  {
   "cell_type": "code",
   "execution_count": 10,
   "id": "11531966",
   "metadata": {},
   "outputs": [
    {
     "data": {
      "text/plain": [
       "['https://www.inven.co.kr/board/lol/4625/3363885',\n",
       " 'https://www.inven.co.kr/board/lol/4625/3363872',\n",
       " 'https://www.inven.co.kr/board/lol/4625/3363870',\n",
       " 'https://www.inven.co.kr/board/lol/4625/3363852',\n",
       " 'https://www.inven.co.kr/board/lol/4625/3363842',\n",
       " 'https://www.inven.co.kr/board/lol/4625/3363836',\n",
       " 'https://www.inven.co.kr/board/lol/4625/3363819',\n",
       " 'https://www.inven.co.kr/board/lol/4625/3363814',\n",
       " 'https://www.inven.co.kr/board/lol/4625/3363810',\n",
       " 'https://www.inven.co.kr/board/lol/4625/3363790',\n",
       " 'https://www.inven.co.kr/board/lol/4625/3363708',\n",
       " 'https://www.inven.co.kr/board/lol/4625/3363685',\n",
       " 'https://www.inven.co.kr/board/lol/4626/4702780',\n",
       " 'https://www.inven.co.kr/board/lol/4625/3363661',\n",
       " 'https://www.inven.co.kr/board/lol/4625/3363641',\n",
       " 'https://www.inven.co.kr/board/lol/4626/4702773',\n",
       " 'https://www.inven.co.kr/board/lol/4626/4702769',\n",
       " 'https://www.inven.co.kr/board/lol/4625/3363528',\n",
       " 'https://www.inven.co.kr/board/lol/4625/3363509',\n",
       " 'https://www.inven.co.kr/board/lol/4625/3363507']"
      ]
     },
     "execution_count": 10,
     "metadata": {},
     "output_type": "execute_result"
    }
   ],
   "source": [
    "url_list"
   ]
  },
  {
   "cell_type": "code",
   "execution_count": 11,
   "id": "002c75e1",
   "metadata": {},
   "outputs": [
    {
     "data": {
      "text/plain": [
       "['애초에 RNG는 MSI 우승해봐야 정당하지가 않지.',\n",
       " 'msi 4강서 북미가 중국잡고 지투가 t1잡고 하지 않았나?',\n",
       " '내가 돌리는 MSI 최고의 행복회로',\n",
       " '이번 msi mvp는 제우스vs갈라 경쟁일거같음',\n",
       " '지금 시점 MSI 퍼스트 팀 어케 됌?',\n",
       " 'msi에서 확실히 눈에 띄는건 제우스 갈라네',\n",
       " '제우스< msi 전라인 통틀어서 역체포스',\n",
       " '사이공 어제 오늘 경기력은 좋았는데 아깝네',\n",
       " '근데 동준이형 이제 해설안함??',\n",
       " '사실 제일 화끈한 팀이 T1이야',\n",
       " '19msi ig vs 팀리퀴드는',\n",
       " 'g2 msi 우승할때 그룹별 5승5패 아니었나',\n",
       " '결국 rng 앞에서 다 평등한 대회 되는 거냐..',\n",
       " '지방방송 미안하지만...애들아 근데 이니 제니..(?) 레벨업...(?)이 뭐야???',\n",
       " 'msi 그냥 미드는 아리가답이다',\n",
       " '아리 리신 이거 조합 ㅈㄴ 좋은거 같은데',\n",
       " '티원 MSI 4강 확정...',\n",
       " '지금 MSI 미드 챔프폭 자체가 기형적일 수 밖에 없음',\n",
       " '현재까지 msi 밴픽률 TOP 10',\n",
       " '지금 msi 매타에 각라인별 쓸만한카드 머있음?']"
      ]
     },
     "execution_count": 11,
     "metadata": {},
     "output_type": "execute_result"
    }
   ],
   "source": [
    "title_list"
   ]
  },
  {
   "cell_type": "code",
   "execution_count": 12,
   "id": "8fe4872f",
   "metadata": {},
   "outputs": [
    {
     "data": {
      "text/html": [
       "<div>\n",
       "<style scoped>\n",
       "    .dataframe tbody tr th:only-of-type {\n",
       "        vertical-align: middle;\n",
       "    }\n",
       "\n",
       "    .dataframe tbody tr th {\n",
       "        vertical-align: top;\n",
       "    }\n",
       "\n",
       "    .dataframe thead th {\n",
       "        text-align: right;\n",
       "    }\n",
       "</style>\n",
       "<table border=\"1\" class=\"dataframe\">\n",
       "  <thead>\n",
       "    <tr style=\"text-align: right;\">\n",
       "      <th></th>\n",
       "      <th>url</th>\n",
       "      <th>title</th>\n",
       "    </tr>\n",
       "  </thead>\n",
       "  <tbody>\n",
       "    <tr>\n",
       "      <th>0</th>\n",
       "      <td>https://www.inven.co.kr/board/lol/4625/3363885</td>\n",
       "      <td>애초에 RNG는 MSI 우승해봐야 정당하지가 않지.</td>\n",
       "    </tr>\n",
       "    <tr>\n",
       "      <th>1</th>\n",
       "      <td>https://www.inven.co.kr/board/lol/4625/3363872</td>\n",
       "      <td>msi 4강서 북미가 중국잡고 지투가 t1잡고 하지 않았나?</td>\n",
       "    </tr>\n",
       "    <tr>\n",
       "      <th>2</th>\n",
       "      <td>https://www.inven.co.kr/board/lol/4625/3363870</td>\n",
       "      <td>내가 돌리는 MSI 최고의 행복회로</td>\n",
       "    </tr>\n",
       "    <tr>\n",
       "      <th>3</th>\n",
       "      <td>https://www.inven.co.kr/board/lol/4625/3363852</td>\n",
       "      <td>이번 msi mvp는 제우스vs갈라 경쟁일거같음</td>\n",
       "    </tr>\n",
       "    <tr>\n",
       "      <th>4</th>\n",
       "      <td>https://www.inven.co.kr/board/lol/4625/3363842</td>\n",
       "      <td>지금 시점 MSI 퍼스트 팀 어케 됌?</td>\n",
       "    </tr>\n",
       "    <tr>\n",
       "      <th>5</th>\n",
       "      <td>https://www.inven.co.kr/board/lol/4625/3363836</td>\n",
       "      <td>msi에서 확실히 눈에 띄는건 제우스 갈라네</td>\n",
       "    </tr>\n",
       "    <tr>\n",
       "      <th>6</th>\n",
       "      <td>https://www.inven.co.kr/board/lol/4625/3363819</td>\n",
       "      <td>제우스&lt; msi 전라인 통틀어서 역체포스</td>\n",
       "    </tr>\n",
       "    <tr>\n",
       "      <th>7</th>\n",
       "      <td>https://www.inven.co.kr/board/lol/4625/3363814</td>\n",
       "      <td>사이공 어제 오늘 경기력은 좋았는데 아깝네</td>\n",
       "    </tr>\n",
       "    <tr>\n",
       "      <th>8</th>\n",
       "      <td>https://www.inven.co.kr/board/lol/4625/3363810</td>\n",
       "      <td>근데 동준이형 이제 해설안함??</td>\n",
       "    </tr>\n",
       "    <tr>\n",
       "      <th>9</th>\n",
       "      <td>https://www.inven.co.kr/board/lol/4625/3363790</td>\n",
       "      <td>사실 제일 화끈한 팀이 T1이야</td>\n",
       "    </tr>\n",
       "    <tr>\n",
       "      <th>10</th>\n",
       "      <td>https://www.inven.co.kr/board/lol/4625/3363708</td>\n",
       "      <td>19msi ig vs 팀리퀴드는</td>\n",
       "    </tr>\n",
       "    <tr>\n",
       "      <th>11</th>\n",
       "      <td>https://www.inven.co.kr/board/lol/4625/3363685</td>\n",
       "      <td>g2 msi 우승할때 그룹별 5승5패 아니었나</td>\n",
       "    </tr>\n",
       "    <tr>\n",
       "      <th>12</th>\n",
       "      <td>https://www.inven.co.kr/board/lol/4626/4702780</td>\n",
       "      <td>결국 rng 앞에서 다 평등한 대회 되는 거냐..</td>\n",
       "    </tr>\n",
       "    <tr>\n",
       "      <th>13</th>\n",
       "      <td>https://www.inven.co.kr/board/lol/4625/3363661</td>\n",
       "      <td>지방방송 미안하지만...애들아 근데 이니 제니..(?) 레벨업...(?)이 뭐야???</td>\n",
       "    </tr>\n",
       "    <tr>\n",
       "      <th>14</th>\n",
       "      <td>https://www.inven.co.kr/board/lol/4625/3363641</td>\n",
       "      <td>msi 그냥 미드는 아리가답이다</td>\n",
       "    </tr>\n",
       "    <tr>\n",
       "      <th>15</th>\n",
       "      <td>https://www.inven.co.kr/board/lol/4626/4702773</td>\n",
       "      <td>아리 리신 이거 조합 ㅈㄴ 좋은거 같은데</td>\n",
       "    </tr>\n",
       "    <tr>\n",
       "      <th>16</th>\n",
       "      <td>https://www.inven.co.kr/board/lol/4626/4702769</td>\n",
       "      <td>티원 MSI 4강 확정...</td>\n",
       "    </tr>\n",
       "    <tr>\n",
       "      <th>17</th>\n",
       "      <td>https://www.inven.co.kr/board/lol/4625/3363528</td>\n",
       "      <td>지금 MSI 미드 챔프폭 자체가 기형적일 수 밖에 없음</td>\n",
       "    </tr>\n",
       "    <tr>\n",
       "      <th>18</th>\n",
       "      <td>https://www.inven.co.kr/board/lol/4625/3363509</td>\n",
       "      <td>현재까지 msi 밴픽률 TOP 10</td>\n",
       "    </tr>\n",
       "    <tr>\n",
       "      <th>19</th>\n",
       "      <td>https://www.inven.co.kr/board/lol/4625/3363507</td>\n",
       "      <td>지금 msi 매타에 각라인별 쓸만한카드 머있음?</td>\n",
       "    </tr>\n",
       "  </tbody>\n",
       "</table>\n",
       "</div>"
      ],
      "text/plain": [
       "                                               url  \\\n",
       "0   https://www.inven.co.kr/board/lol/4625/3363885   \n",
       "1   https://www.inven.co.kr/board/lol/4625/3363872   \n",
       "2   https://www.inven.co.kr/board/lol/4625/3363870   \n",
       "3   https://www.inven.co.kr/board/lol/4625/3363852   \n",
       "4   https://www.inven.co.kr/board/lol/4625/3363842   \n",
       "5   https://www.inven.co.kr/board/lol/4625/3363836   \n",
       "6   https://www.inven.co.kr/board/lol/4625/3363819   \n",
       "7   https://www.inven.co.kr/board/lol/4625/3363814   \n",
       "8   https://www.inven.co.kr/board/lol/4625/3363810   \n",
       "9   https://www.inven.co.kr/board/lol/4625/3363790   \n",
       "10  https://www.inven.co.kr/board/lol/4625/3363708   \n",
       "11  https://www.inven.co.kr/board/lol/4625/3363685   \n",
       "12  https://www.inven.co.kr/board/lol/4626/4702780   \n",
       "13  https://www.inven.co.kr/board/lol/4625/3363661   \n",
       "14  https://www.inven.co.kr/board/lol/4625/3363641   \n",
       "15  https://www.inven.co.kr/board/lol/4626/4702773   \n",
       "16  https://www.inven.co.kr/board/lol/4626/4702769   \n",
       "17  https://www.inven.co.kr/board/lol/4625/3363528   \n",
       "18  https://www.inven.co.kr/board/lol/4625/3363509   \n",
       "19  https://www.inven.co.kr/board/lol/4625/3363507   \n",
       "\n",
       "                                              title  \n",
       "0                      애초에 RNG는 MSI 우승해봐야 정당하지가 않지.  \n",
       "1                 msi 4강서 북미가 중국잡고 지투가 t1잡고 하지 않았나?  \n",
       "2                               내가 돌리는 MSI 최고의 행복회로  \n",
       "3                        이번 msi mvp는 제우스vs갈라 경쟁일거같음  \n",
       "4                             지금 시점 MSI 퍼스트 팀 어케 됌?  \n",
       "5                          msi에서 확실히 눈에 띄는건 제우스 갈라네  \n",
       "6                            제우스< msi 전라인 통틀어서 역체포스  \n",
       "7                           사이공 어제 오늘 경기력은 좋았는데 아깝네  \n",
       "8                                 근데 동준이형 이제 해설안함??  \n",
       "9                                 사실 제일 화끈한 팀이 T1이야  \n",
       "10                                19msi ig vs 팀리퀴드는  \n",
       "11                        g2 msi 우승할때 그룹별 5승5패 아니었나  \n",
       "12                      결국 rng 앞에서 다 평등한 대회 되는 거냐..  \n",
       "13  지방방송 미안하지만...애들아 근데 이니 제니..(?) 레벨업...(?)이 뭐야???  \n",
       "14                                msi 그냥 미드는 아리가답이다  \n",
       "15                           아리 리신 이거 조합 ㅈㄴ 좋은거 같은데  \n",
       "16                                  티원 MSI 4강 확정...  \n",
       "17                   지금 MSI 미드 챔프폭 자체가 기형적일 수 밖에 없음  \n",
       "18                              현재까지 msi 밴픽률 TOP 10  \n",
       "19                       지금 msi 매타에 각라인별 쓸만한카드 머있음?  "
      ]
     },
     "execution_count": 12,
     "metadata": {},
     "output_type": "execute_result"
    }
   ],
   "source": [
    "df = pd.DataFrame({'url':url_list, 'title':title_list})\n",
    "df"
   ]
  },
  {
   "cell_type": "code",
   "execution_count": 13,
   "id": "cbeca574",
   "metadata": {},
   "outputs": [],
   "source": [
    "df.to_csv('inven_url.csv', encoding='utf-8-sig')"
   ]
  },
  {
   "cell_type": "code",
   "execution_count": 14,
   "id": "7af40c17",
   "metadata": {},
   "outputs": [],
   "source": [
    "import sys\n",
    "import os\n",
    "import pandas as pd\n",
    "import numpy as np"
   ]
  },
  {
   "cell_type": "code",
   "execution_count": 15,
   "id": "55abcf1a",
   "metadata": {},
   "outputs": [
    {
     "name": "stdout",
     "output_type": "stream",
     "text": [
      "20\n"
     ]
    },
    {
     "data": {
      "text/html": [
       "<div>\n",
       "<style scoped>\n",
       "    .dataframe tbody tr th:only-of-type {\n",
       "        vertical-align: middle;\n",
       "    }\n",
       "\n",
       "    .dataframe tbody tr th {\n",
       "        vertical-align: top;\n",
       "    }\n",
       "\n",
       "    .dataframe thead th {\n",
       "        text-align: right;\n",
       "    }\n",
       "</style>\n",
       "<table border=\"1\" class=\"dataframe\">\n",
       "  <thead>\n",
       "    <tr style=\"text-align: right;\">\n",
       "      <th></th>\n",
       "      <th>url</th>\n",
       "      <th>title</th>\n",
       "    </tr>\n",
       "  </thead>\n",
       "  <tbody>\n",
       "    <tr>\n",
       "      <th>0</th>\n",
       "      <td>https://www.inven.co.kr/board/lol/4625/3363885</td>\n",
       "      <td>애초에 RNG는 MSI 우승해봐야 정당하지가 않지.</td>\n",
       "    </tr>\n",
       "    <tr>\n",
       "      <th>1</th>\n",
       "      <td>https://www.inven.co.kr/board/lol/4625/3363872</td>\n",
       "      <td>msi 4강서 북미가 중국잡고 지투가 t1잡고 하지 않았나?</td>\n",
       "    </tr>\n",
       "    <tr>\n",
       "      <th>2</th>\n",
       "      <td>https://www.inven.co.kr/board/lol/4625/3363870</td>\n",
       "      <td>내가 돌리는 MSI 최고의 행복회로</td>\n",
       "    </tr>\n",
       "    <tr>\n",
       "      <th>3</th>\n",
       "      <td>https://www.inven.co.kr/board/lol/4625/3363852</td>\n",
       "      <td>이번 msi mvp는 제우스vs갈라 경쟁일거같음</td>\n",
       "    </tr>\n",
       "    <tr>\n",
       "      <th>4</th>\n",
       "      <td>https://www.inven.co.kr/board/lol/4625/3363842</td>\n",
       "      <td>지금 시점 MSI 퍼스트 팀 어케 됌?</td>\n",
       "    </tr>\n",
       "    <tr>\n",
       "      <th>5</th>\n",
       "      <td>https://www.inven.co.kr/board/lol/4625/3363836</td>\n",
       "      <td>msi에서 확실히 눈에 띄는건 제우스 갈라네</td>\n",
       "    </tr>\n",
       "    <tr>\n",
       "      <th>6</th>\n",
       "      <td>https://www.inven.co.kr/board/lol/4625/3363819</td>\n",
       "      <td>제우스&lt; msi 전라인 통틀어서 역체포스</td>\n",
       "    </tr>\n",
       "    <tr>\n",
       "      <th>7</th>\n",
       "      <td>https://www.inven.co.kr/board/lol/4625/3363814</td>\n",
       "      <td>사이공 어제 오늘 경기력은 좋았는데 아깝네</td>\n",
       "    </tr>\n",
       "    <tr>\n",
       "      <th>8</th>\n",
       "      <td>https://www.inven.co.kr/board/lol/4625/3363810</td>\n",
       "      <td>근데 동준이형 이제 해설안함??</td>\n",
       "    </tr>\n",
       "    <tr>\n",
       "      <th>9</th>\n",
       "      <td>https://www.inven.co.kr/board/lol/4625/3363790</td>\n",
       "      <td>사실 제일 화끈한 팀이 T1이야</td>\n",
       "    </tr>\n",
       "    <tr>\n",
       "      <th>10</th>\n",
       "      <td>https://www.inven.co.kr/board/lol/4625/3363708</td>\n",
       "      <td>19msi ig vs 팀리퀴드는</td>\n",
       "    </tr>\n",
       "    <tr>\n",
       "      <th>11</th>\n",
       "      <td>https://www.inven.co.kr/board/lol/4625/3363685</td>\n",
       "      <td>g2 msi 우승할때 그룹별 5승5패 아니었나</td>\n",
       "    </tr>\n",
       "    <tr>\n",
       "      <th>12</th>\n",
       "      <td>https://www.inven.co.kr/board/lol/4626/4702780</td>\n",
       "      <td>결국 rng 앞에서 다 평등한 대회 되는 거냐..</td>\n",
       "    </tr>\n",
       "    <tr>\n",
       "      <th>13</th>\n",
       "      <td>https://www.inven.co.kr/board/lol/4625/3363661</td>\n",
       "      <td>지방방송 미안하지만...애들아 근데 이니 제니..(?) 레벨업...(?)이 뭐야???</td>\n",
       "    </tr>\n",
       "    <tr>\n",
       "      <th>14</th>\n",
       "      <td>https://www.inven.co.kr/board/lol/4625/3363641</td>\n",
       "      <td>msi 그냥 미드는 아리가답이다</td>\n",
       "    </tr>\n",
       "    <tr>\n",
       "      <th>15</th>\n",
       "      <td>https://www.inven.co.kr/board/lol/4626/4702773</td>\n",
       "      <td>아리 리신 이거 조합 ㅈㄴ 좋은거 같은데</td>\n",
       "    </tr>\n",
       "    <tr>\n",
       "      <th>16</th>\n",
       "      <td>https://www.inven.co.kr/board/lol/4626/4702769</td>\n",
       "      <td>티원 MSI 4강 확정...</td>\n",
       "    </tr>\n",
       "    <tr>\n",
       "      <th>17</th>\n",
       "      <td>https://www.inven.co.kr/board/lol/4625/3363528</td>\n",
       "      <td>지금 MSI 미드 챔프폭 자체가 기형적일 수 밖에 없음</td>\n",
       "    </tr>\n",
       "    <tr>\n",
       "      <th>18</th>\n",
       "      <td>https://www.inven.co.kr/board/lol/4625/3363509</td>\n",
       "      <td>현재까지 msi 밴픽률 TOP 10</td>\n",
       "    </tr>\n",
       "    <tr>\n",
       "      <th>19</th>\n",
       "      <td>https://www.inven.co.kr/board/lol/4625/3363507</td>\n",
       "      <td>지금 msi 매타에 각라인별 쓸만한카드 머있음?</td>\n",
       "    </tr>\n",
       "  </tbody>\n",
       "</table>\n",
       "</div>"
      ],
      "text/plain": [
       "                                               url  \\\n",
       "0   https://www.inven.co.kr/board/lol/4625/3363885   \n",
       "1   https://www.inven.co.kr/board/lol/4625/3363872   \n",
       "2   https://www.inven.co.kr/board/lol/4625/3363870   \n",
       "3   https://www.inven.co.kr/board/lol/4625/3363852   \n",
       "4   https://www.inven.co.kr/board/lol/4625/3363842   \n",
       "5   https://www.inven.co.kr/board/lol/4625/3363836   \n",
       "6   https://www.inven.co.kr/board/lol/4625/3363819   \n",
       "7   https://www.inven.co.kr/board/lol/4625/3363814   \n",
       "8   https://www.inven.co.kr/board/lol/4625/3363810   \n",
       "9   https://www.inven.co.kr/board/lol/4625/3363790   \n",
       "10  https://www.inven.co.kr/board/lol/4625/3363708   \n",
       "11  https://www.inven.co.kr/board/lol/4625/3363685   \n",
       "12  https://www.inven.co.kr/board/lol/4626/4702780   \n",
       "13  https://www.inven.co.kr/board/lol/4625/3363661   \n",
       "14  https://www.inven.co.kr/board/lol/4625/3363641   \n",
       "15  https://www.inven.co.kr/board/lol/4626/4702773   \n",
       "16  https://www.inven.co.kr/board/lol/4626/4702769   \n",
       "17  https://www.inven.co.kr/board/lol/4625/3363528   \n",
       "18  https://www.inven.co.kr/board/lol/4625/3363509   \n",
       "19  https://www.inven.co.kr/board/lol/4625/3363507   \n",
       "\n",
       "                                              title  \n",
       "0                      애초에 RNG는 MSI 우승해봐야 정당하지가 않지.  \n",
       "1                 msi 4강서 북미가 중국잡고 지투가 t1잡고 하지 않았나?  \n",
       "2                               내가 돌리는 MSI 최고의 행복회로  \n",
       "3                        이번 msi mvp는 제우스vs갈라 경쟁일거같음  \n",
       "4                             지금 시점 MSI 퍼스트 팀 어케 됌?  \n",
       "5                          msi에서 확실히 눈에 띄는건 제우스 갈라네  \n",
       "6                            제우스< msi 전라인 통틀어서 역체포스  \n",
       "7                           사이공 어제 오늘 경기력은 좋았는데 아깝네  \n",
       "8                                 근데 동준이형 이제 해설안함??  \n",
       "9                                 사실 제일 화끈한 팀이 T1이야  \n",
       "10                                19msi ig vs 팀리퀴드는  \n",
       "11                        g2 msi 우승할때 그룹별 5승5패 아니었나  \n",
       "12                      결국 rng 앞에서 다 평등한 대회 되는 거냐..  \n",
       "13  지방방송 미안하지만...애들아 근데 이니 제니..(?) 레벨업...(?)이 뭐야???  \n",
       "14                                msi 그냥 미드는 아리가답이다  \n",
       "15                           아리 리신 이거 조합 ㅈㄴ 좋은거 같은데  \n",
       "16                                  티원 MSI 4강 확정...  \n",
       "17                   지금 MSI 미드 챔프폭 자체가 기형적일 수 밖에 없음  \n",
       "18                              현재까지 msi 밴픽률 TOP 10  \n",
       "19                       지금 msi 매타에 각라인별 쓸만한카드 머있음?  "
      ]
     },
     "execution_count": 15,
     "metadata": {},
     "output_type": "execute_result"
    }
   ],
   "source": [
    "url_load = pd.read_csv('inven_url.csv', encoding = 'utf-8-sig')\n",
    "url_load = url_load.drop(labels = 'Unnamed: 0', axis = 1)\n",
    "\n",
    "num_list = len(url_load)\n",
    "print(num_list)\n",
    "url_load"
   ]
  },
  {
   "cell_type": "code",
   "execution_count": 16,
   "id": "07ffd98c",
   "metadata": {},
   "outputs": [],
   "source": [
    "i = 0\n",
    "url = url_load['url'][i]\n",
    "chrome_path = chromedriver_autoinstaller.install()\n",
    "driver = webdriver.Chrome(chrome_path)\n",
    "\n",
    "driver.get(url)\n",
    "time.sleep(1)"
   ]
  },
  {
   "cell_type": "code",
   "execution_count": 17,
   "id": "4e4a5928",
   "metadata": {},
   "outputs": [],
   "source": [
    "dict = {}\n",
    "\n",
    "target_info = {}"
   ]
  },
  {
   "cell_type": "code",
   "execution_count": 18,
   "id": "52800ff6",
   "metadata": {},
   "outputs": [
    {
     "data": {
      "text/plain": [
       "'애초에 RNG는 MSI 우승해봐야 정당하지가 않지.'"
      ]
     },
     "execution_count": 18,
     "metadata": {},
     "output_type": "execute_result"
    }
   ],
   "source": [
    "overlays = '.articleTitle'\n",
    "tit = driver.find_element_by_css_selector(overlays)\n",
    "title = tit.text\n",
    "title"
   ]
  },
  {
   "cell_type": "code",
   "execution_count": 19,
   "id": "b18ae729",
   "metadata": {},
   "outputs": [
    {
     "data": {
      "text/plain": [
       "' 글리아르'"
      ]
     },
     "execution_count": 19,
     "metadata": {},
     "output_type": "execute_result"
    }
   ],
   "source": [
    "overlays = '.articleWriter'\n",
    "nick = driver.find_element_by_css_selector(overlays)\n",
    "nickname = nick.text\n",
    "nickname"
   ]
  },
  {
   "cell_type": "code",
   "execution_count": 20,
   "id": "49567fe4",
   "metadata": {},
   "outputs": [
    {
     "data": {
      "text/plain": [
       "'2022-05-24 17:51'"
      ]
     },
     "execution_count": 20,
     "metadata": {},
     "output_type": "execute_result"
    }
   ],
   "source": [
    "overlays = '.articleDate'\n",
    "date = driver.find_element_by_css_selector(overlays)\n",
    "datetime = date.text\n",
    "datetime"
   ]
  },
  {
   "cell_type": "code",
   "execution_count": 21,
   "id": "fe055f04",
   "metadata": {},
   "outputs": [
    {
     "data": {
      "text/plain": [
       "[<selenium.webdriver.remote.webelement.WebElement (session=\"760d2b393995f647324b246bc3ba53c7\", element=\"30272fa3-010b-4008-951b-3fc43c4d12e6\")>]"
      ]
     },
     "execution_count": 21,
     "metadata": {},
     "output_type": "execute_result"
    }
   ],
   "source": [
    "overlays = \".contentBody\"                                 \n",
    "contents = driver.find_elements_by_css_selector(overlays)\n",
    "contents"
   ]
  },
  {
   "cell_type": "code",
   "execution_count": 22,
   "id": "705c0c99",
   "metadata": {},
   "outputs": [
    {
     "data": {
      "text/plain": [
       "'타국에서 온 선수들 시차니 음식이니 자는 환경이니 경기장이니\\n의자도 달라 책걸상 높낮이도 자기 하던 거랑 달라\\n암만 맞춰도 느낌에 차이가 있을 수밖에 없고\\n노이즈도 안 넣어서 소리가 거슬리지도 않아\\n경기장이라서 관중들이 의식되는 것도 아니야\\n얘들은 대체 다른 팀 선수들이 부담하는 것에 뭘 부담하며 경기하고 있는 건지 ㅋㅋㅋㅋㅋ\\n거기에 심판도 없고 규정 장비 사용 안 하는 건 말할 것도 없지.\\n어떤 제약도 안 받는 풀 컨디션이란 것부터 형평성에 어긋나니 애초에 공평한 경기라는 건 시작부터 성립 안 하지.\\n말마따나 경기장 와서 했으면 한 끗 차이 실수가 나와서 죽고 한타 대패했을지 안 했을지 어떻게 아나.\\n거기에 부정 행위 의문을 반박하거나 아예 논란을 잠재울 정당한 수단 하나 없다는 것부터 얘네는 실제로 했든 안 했든 우승 해봐야 중국인 조선족 제외하고는 인정하는 사람이 드물 지경이고.'"
      ]
     },
     "execution_count": 22,
     "metadata": {},
     "output_type": "execute_result"
    }
   ],
   "source": [
    "contents[0].text"
   ]
  },
  {
   "cell_type": "code",
   "execution_count": 23,
   "id": "66fd7c6e",
   "metadata": {},
   "outputs": [
    {
     "data": {
      "text/plain": [
       "'타국에서 온 선수들 시차니 음식이니 자는 환경이니 경기장이니\\n의자도 달라 책걸상 높낮이도 자기 하던 거랑 달라\\n암만 맞춰도 느낌에 차이가 있을 수밖에 없고\\n노이즈도 안 넣어서 소리가 거슬리지도 않아\\n경기장이라서 관중들이 의식되는 것도 아니야\\n얘들은 대체 다른 팀 선수들이 부담하는 것에 뭘 부담하며 경기하고 있는 건지 ㅋㅋㅋㅋㅋ\\n거기에 심판도 없고 규정 장비 사용 안 하는 건 말할 것도 없지.\\n어떤 제약도 안 받는 풀 컨디션이란 것부터 형평성에 어긋나니 애초에 공평한 경기라는 건 시작부터 성립 안 하지.\\n말마따나 경기장 와서 했으면 한 끗 차이 실수가 나와서 죽고 한타 대패했을지 안 했을지 어떻게 아나.\\n거기에 부정 행위 의문을 반박하거나 아예 논란을 잠재울 정당한 수단 하나 없다는 것부터 얘네는 실제로 했든 안 했든 우승 해봐야 중국인 조선족 제외하고는 인정하는 사람이 드물 지경이고.'"
      ]
     },
     "execution_count": 23,
     "metadata": {},
     "output_type": "execute_result"
    }
   ],
   "source": [
    "content_list = []\n",
    "for content in contents:\n",
    "    content_list.append(content.text)\n",
    "\n",
    "content_str = ' '.join(content_list)\n",
    "content_str"
   ]
  },
  {
   "cell_type": "code",
   "execution_count": 24,
   "id": "5b4390da",
   "metadata": {},
   "outputs": [],
   "source": [
    "target_info['title'] = title\n",
    "target_info['nickname'] = nickname\n",
    "target_info['datetime'] = datetime\n",
    "target_info['content'] = content_str"
   ]
  },
  {
   "cell_type": "code",
   "execution_count": 25,
   "id": "2ead9f91",
   "metadata": {},
   "outputs": [],
   "source": [
    "dict[0] = target_info"
   ]
  },
  {
   "cell_type": "code",
   "execution_count": 26,
   "id": "d57e5d5d",
   "metadata": {},
   "outputs": [
    {
     "data": {
      "text/plain": [
       "{0: {'title': '애초에 RNG는 MSI 우승해봐야 정당하지가 않지.',\n",
       "  'nickname': ' 글리아르',\n",
       "  'datetime': '2022-05-24 17:51',\n",
       "  'content': '타국에서 온 선수들 시차니 음식이니 자는 환경이니 경기장이니\\n의자도 달라 책걸상 높낮이도 자기 하던 거랑 달라\\n암만 맞춰도 느낌에 차이가 있을 수밖에 없고\\n노이즈도 안 넣어서 소리가 거슬리지도 않아\\n경기장이라서 관중들이 의식되는 것도 아니야\\n얘들은 대체 다른 팀 선수들이 부담하는 것에 뭘 부담하며 경기하고 있는 건지 ㅋㅋㅋㅋㅋ\\n거기에 심판도 없고 규정 장비 사용 안 하는 건 말할 것도 없지.\\n어떤 제약도 안 받는 풀 컨디션이란 것부터 형평성에 어긋나니 애초에 공평한 경기라는 건 시작부터 성립 안 하지.\\n말마따나 경기장 와서 했으면 한 끗 차이 실수가 나와서 죽고 한타 대패했을지 안 했을지 어떻게 아나.\\n거기에 부정 행위 의문을 반박하거나 아예 논란을 잠재울 정당한 수단 하나 없다는 것부터 얘네는 실제로 했든 안 했든 우승 해봐야 중국인 조선족 제외하고는 인정하는 사람이 드물 지경이고.'}}"
      ]
     },
     "execution_count": 26,
     "metadata": {},
     "output_type": "execute_result"
    }
   ],
   "source": [
    "dict"
   ]
  },
  {
   "cell_type": "code",
   "execution_count": 27,
   "id": "64308dd9",
   "metadata": {},
   "outputs": [
    {
     "data": {
      "application/vnd.jupyter.widget-view+json": {
       "model_id": "413a856dbe004bce94f26544d4660fe8",
       "version_major": 2,
       "version_minor": 0
      },
      "text/plain": [
       "  0%|          | 0/10 [00:00<?, ?it/s]"
      ]
     },
     "metadata": {},
     "output_type": "display_data"
    }
   ],
   "source": [
    "dict = {}\n",
    "\n",
    "number = 10\n",
    "chrome_path = chromedriver_autoinstaller.install()\n",
    "\n",
    "for i in tqdm_notebook(range(0, number)):\n",
    "    url = url_load['url'][i]\n",
    "    driver = webdriver.Chrome(chrome_path)\n",
    "    driver.get(url)\n",
    "    \n",
    "    try:\n",
    "        target_info = {}\n",
    "        \n",
    "        overlays = '.articleTitle'\n",
    "        tit = driver.find_element_by_css_selector(overlays)\n",
    "        title = tit.text\n",
    "        \n",
    "        overlays = '.articleWriter'\n",
    "        nick = driver.find_element_by_css_selector(overlays)\n",
    "        nickname = nick.text\n",
    "        \n",
    "        overlays = '.articleDate'\n",
    "        date = driver.find_element_by_css_selector(overlays)\n",
    "        datetime = date.text\n",
    "        \n",
    "        overlays = \".contentBody\"                                 \n",
    "        contents = driver.find_elements_by_css_selector(overlays)\n",
    "        \n",
    "        content_list = []\n",
    "        for content in contents:\n",
    "            content_list.append(content.text)\n",
    "\n",
    "        content_str = ' '.join(content_list)\n",
    "        \n",
    "        target_info['title'] = title\n",
    "        target_info['nickname'] = nickname\n",
    "        target_info['datetime'] = datetime\n",
    "        target_info['content'] = content_str\n",
    "        \n",
    "        dict[i] = target_info\n",
    "        time.sleep(1)\n",
    "        \n",
    "        driver.close() \n",
    "    \n",
    "    except:\n",
    "        print('error')\n",
    "        driver.close()\n",
    "        time.sleep(1)\n",
    "        continue"
   ]
  },
  {
   "cell_type": "code",
   "execution_count": 28,
   "id": "9a9fa07c",
   "metadata": {},
   "outputs": [
    {
     "data": {
      "text/html": [
       "<div>\n",
       "<style scoped>\n",
       "    .dataframe tbody tr th:only-of-type {\n",
       "        vertical-align: middle;\n",
       "    }\n",
       "\n",
       "    .dataframe tbody tr th {\n",
       "        vertical-align: top;\n",
       "    }\n",
       "\n",
       "    .dataframe thead th {\n",
       "        text-align: right;\n",
       "    }\n",
       "</style>\n",
       "<table border=\"1\" class=\"dataframe\">\n",
       "  <thead>\n",
       "    <tr style=\"text-align: right;\">\n",
       "      <th></th>\n",
       "      <th>title</th>\n",
       "      <th>nickname</th>\n",
       "      <th>datetime</th>\n",
       "      <th>content</th>\n",
       "    </tr>\n",
       "  </thead>\n",
       "  <tbody>\n",
       "    <tr>\n",
       "      <th>0</th>\n",
       "      <td>애초에 RNG는 MSI 우승해봐야 정당하지가 않지.</td>\n",
       "      <td>글리아르</td>\n",
       "      <td>2022-05-24 17:51</td>\n",
       "      <td>타국에서 온 선수들 시차니 음식이니 자는 환경이니 경기장이니\\n의자도 달라 책걸상 ...</td>\n",
       "    </tr>\n",
       "    <tr>\n",
       "      <th>1</th>\n",
       "      <td>msi 4강서 북미가 중국잡고 지투가 t1잡고 하지 않았나?</td>\n",
       "      <td>미르팝</td>\n",
       "      <td>2022-05-24 17:46</td>\n",
       "      <td>그때 지투가 msi 우승했던거 같은데\\n\\n이번도 4강 대진은 그렇게 될거 같다 ㅋㅋ</td>\n",
       "    </tr>\n",
       "    <tr>\n",
       "      <th>2</th>\n",
       "      <td>내가 돌리는 MSI 최고의 행복회로</td>\n",
       "      <td>갤럭시아</td>\n",
       "      <td>2022-05-24 17:44</td>\n",
       "      <td>RNG의 PSG전 승리로 인해 RNG는 1위 확정\\nEG VS G2 EG의 승리\\n...</td>\n",
       "    </tr>\n",
       "    <tr>\n",
       "      <th>3</th>\n",
       "      <td>이번 msi mvp는 제우스vs갈라 경쟁일거같음</td>\n",
       "      <td>카페라떼모카</td>\n",
       "      <td>2022-05-24 17:37</td>\n",
       "      <td>티원이 우승하면 제우스\\n알앤지가 우승하면 갈라\\n\\n얘네 둘이 전라인 전선수 통틀...</td>\n",
       "    </tr>\n",
       "    <tr>\n",
       "      <th>4</th>\n",
       "      <td>지금 시점 MSI 퍼스트 팀 어케 됌?</td>\n",
       "      <td>우현상민석</td>\n",
       "      <td>2022-05-24 17:33</td>\n",
       "      <td>솔직히 탑 원딜 빼고는 다 박빙이여서 ㅋㅋ\\n\\n탑은 제우스, 원딜은 갈라\\n\\n이...</td>\n",
       "    </tr>\n",
       "    <tr>\n",
       "      <th>5</th>\n",
       "      <td>msi에서 확실히 눈에 띄는건 제우스 갈라네</td>\n",
       "      <td>디에이오</td>\n",
       "      <td>2022-05-24 17:30</td>\n",
       "      <td>제우스 갈라 둘다\\n\\n같은라인 어나더레벨 느낌임</td>\n",
       "    </tr>\n",
       "    <tr>\n",
       "      <th>6</th>\n",
       "      <td>제우스&lt; msi 전라인 통틀어서 역체포스</td>\n",
       "      <td>앵두와사과</td>\n",
       "      <td>2022-05-24 17:24</td>\n",
       "      <td>반박불가다 이건...</td>\n",
       "    </tr>\n",
       "    <tr>\n",
       "      <th>7</th>\n",
       "      <td>사이공 어제 오늘 경기력은 좋았는데 아깝네</td>\n",
       "      <td>네없임네닉와</td>\n",
       "      <td>2022-05-24 17:23</td>\n",
       "      <td>Rng 잡을뻔하고 psg g2 까지 잡고 장난 없었는데 진작 이렇게 했으면 msi ...</td>\n",
       "    </tr>\n",
       "    <tr>\n",
       "      <th>8</th>\n",
       "      <td>근데 동준이형 이제 해설안함??</td>\n",
       "      <td>기술</td>\n",
       "      <td>2022-05-24 17:23</td>\n",
       "      <td>요번 msi에서 전혀 안보이네,, 요번만 쉬시는건가</td>\n",
       "    </tr>\n",
       "    <tr>\n",
       "      <th>9</th>\n",
       "      <td>사실 제일 화끈한 팀이 T1이야</td>\n",
       "      <td>우현상민석</td>\n",
       "      <td>2022-05-24 17:20</td>\n",
       "      <td>맨날 운영만 한다고 ㅈㄹ 하는데\\nT1만큼 빠르고 잘 밟고 잘 패는 팀이 이번 MS...</td>\n",
       "    </tr>\n",
       "  </tbody>\n",
       "</table>\n",
       "</div>"
      ],
      "text/plain": [
       "                               title nickname          datetime  \\\n",
       "0       애초에 RNG는 MSI 우승해봐야 정당하지가 않지.     글리아르  2022-05-24 17:51   \n",
       "1  msi 4강서 북미가 중국잡고 지투가 t1잡고 하지 않았나?      미르팝  2022-05-24 17:46   \n",
       "2                내가 돌리는 MSI 최고의 행복회로     갤럭시아  2022-05-24 17:44   \n",
       "3         이번 msi mvp는 제우스vs갈라 경쟁일거같음   카페라떼모카  2022-05-24 17:37   \n",
       "4              지금 시점 MSI 퍼스트 팀 어케 됌?    우현상민석  2022-05-24 17:33   \n",
       "5           msi에서 확실히 눈에 띄는건 제우스 갈라네     디에이오  2022-05-24 17:30   \n",
       "6             제우스< msi 전라인 통틀어서 역체포스    앵두와사과  2022-05-24 17:24   \n",
       "7            사이공 어제 오늘 경기력은 좋았는데 아깝네   네없임네닉와  2022-05-24 17:23   \n",
       "8                  근데 동준이형 이제 해설안함??       기술  2022-05-24 17:23   \n",
       "9                  사실 제일 화끈한 팀이 T1이야    우현상민석  2022-05-24 17:20   \n",
       "\n",
       "                                             content  \n",
       "0  타국에서 온 선수들 시차니 음식이니 자는 환경이니 경기장이니\\n의자도 달라 책걸상 ...  \n",
       "1    그때 지투가 msi 우승했던거 같은데\\n\\n이번도 4강 대진은 그렇게 될거 같다 ㅋㅋ  \n",
       "2  RNG의 PSG전 승리로 인해 RNG는 1위 확정\\nEG VS G2 EG의 승리\\n...  \n",
       "3  티원이 우승하면 제우스\\n알앤지가 우승하면 갈라\\n\\n얘네 둘이 전라인 전선수 통틀...  \n",
       "4  솔직히 탑 원딜 빼고는 다 박빙이여서 ㅋㅋ\\n\\n탑은 제우스, 원딜은 갈라\\n\\n이...  \n",
       "5                        제우스 갈라 둘다\\n\\n같은라인 어나더레벨 느낌임  \n",
       "6                                        반박불가다 이건...  \n",
       "7  Rng 잡을뻔하고 psg g2 까지 잡고 장난 없었는데 진작 이렇게 했으면 msi ...  \n",
       "8                       요번 msi에서 전혀 안보이네,, 요번만 쉬시는건가  \n",
       "9  맨날 운영만 한다고 ㅈㄹ 하는데\\nT1만큼 빠르고 잘 밟고 잘 패는 팀이 이번 MS...  "
      ]
     },
     "execution_count": 28,
     "metadata": {},
     "output_type": "execute_result"
    }
   ],
   "source": [
    "result_df = pd.DataFrame.from_dict(dict, orient='index')\n",
    "result_df"
   ]
  },
  {
   "cell_type": "code",
   "execution_count": 29,
   "id": "6c786b94",
   "metadata": {},
   "outputs": [],
   "source": [
    "result_df.to_csv(\"lolinven_content.csv\", encoding='utf-8-sig')"
   ]
  },
  {
   "cell_type": "code",
   "execution_count": null,
   "id": "d73dd86d",
   "metadata": {},
   "outputs": [],
   "source": []
  }
 ],
 "metadata": {
  "kernelspec": {
   "display_name": "Python 3 (ipykernel)",
   "language": "python",
   "name": "python3"
  },
  "language_info": {
   "codemirror_mode": {
    "name": "ipython",
    "version": 3
   },
   "file_extension": ".py",
   "mimetype": "text/x-python",
   "name": "python",
   "nbconvert_exporter": "python",
   "pygments_lexer": "ipython3",
   "version": "3.9.7"
  }
 },
 "nbformat": 4,
 "nbformat_minor": 5
}
