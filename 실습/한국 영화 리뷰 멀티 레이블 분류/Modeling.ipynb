{
 "cells": [
  {
   "cell_type": "code",
   "execution_count": 12,
   "id": "600ed6e9",
   "metadata": {},
   "outputs": [],
   "source": [
    "import pickle\n",
    "from tensorflow.keras.models import Sequential\n",
    "from tensorflow.keras.layers import Dense, Dropout, Bidirectional, LSTM, Embedding\n",
    "from tensorflow.keras.callbacks import EarlyStopping, ModelCheckpoint\n",
    "from tensorflow.keras.optimizers import Adam\n",
    "import tensorflow as tf\n",
    "import matplotlib.pyplot as plt"
   ]
  },
  {
   "cell_type": "code",
   "execution_count": 2,
   "id": "3001c4eb",
   "metadata": {},
   "outputs": [],
   "source": [
    "with open('preprocessed_data.pickle', 'rb') as fr:\n",
    "    data = pickle.load(fr)"
   ]
  },
  {
   "cell_type": "code",
   "execution_count": 3,
   "id": "e78cdd00",
   "metadata": {},
   "outputs": [
    {
     "data": {
      "text/plain": [
       "dict_keys(['train_x', 'train_y', 'test_x', 'test_y', 'validation_x', 'validation_y', 'token', 'sentence_len', 'stop_words', 'word_num'])"
      ]
     },
     "execution_count": 3,
     "metadata": {},
     "output_type": "execute_result"
    }
   ],
   "source": [
    "data.keys()"
   ]
  },
  {
   "cell_type": "code",
   "execution_count": 4,
   "id": "fc998d14",
   "metadata": {},
   "outputs": [],
   "source": [
    "t_x = data['train_x']\n",
    "t_y = data['train_y']\n",
    "tt_x = data['test_x']\n",
    "tt_y = data['test_y']\n",
    "v_x = data['validation_x']\n",
    "v_y = data['validation_y']\n",
    "sentence_len = data['sentence_len']"
   ]
  },
  {
   "cell_type": "code",
   "execution_count": 5,
   "id": "3e8fa93f",
   "metadata": {},
   "outputs": [
    {
     "data": {
      "text/plain": [
       "((5447, 51), (1353, 51), (2920, 51), (5447, 5), (1353, 5), (2920, 5))"
      ]
     },
     "execution_count": 5,
     "metadata": {},
     "output_type": "execute_result"
    }
   ],
   "source": [
    "t_x.shape, v_x.shape, tt_x.shape, t_y.shape, v_y.shape, tt_y.shape"
   ]
  },
  {
   "cell_type": "code",
   "execution_count": 6,
   "id": "c71530b5",
   "metadata": {},
   "outputs": [],
   "source": [
    "batch_size = 128\n",
    "ec = 50\n",
    "embedding_len = 64\n",
    "neuron_num = 64\n",
    "d_out = 0.3\n",
    "lr = 0.001"
   ]
  },
  {
   "cell_type": "code",
   "execution_count": 7,
   "id": "30e40826",
   "metadata": {},
   "outputs": [],
   "source": [
    "es = EarlyStopping(monitor = 'val_loss', mode = 'min', patience = 3, restore_best_weights = True)\n",
    "mck = ModelCheckpoint('best_m.h5', monitor = 'accuracy', mode = 'max', save_best_only = True)"
   ]
  },
  {
   "cell_type": "code",
   "execution_count": 8,
   "id": "f30f3ad4",
   "metadata": {},
   "outputs": [],
   "source": [
    "m = Sequential()\n",
    "m.add(Embedding(2036, embedding_len, input_length = sentence_len))\n",
    "m.add(Bidirectional(LSTM(neuron_num * 2, dropout = d_out, return_sequences = True)))\n",
    "m.add(Bidirectional(LSTM(neuron_num, dropout = d_out)))\n",
    "m.add(Dense(neuron_num * 2, activation = 'relu'))\n",
    "m.add(Dropout(d_out))\n",
    "m.add(Dense(neuron_num, activation = 'relu'))\n",
    "m.add(Dropout(d_out))\n",
    "m.add(Dense(5, activation = 'sigmoid'))\n",
    "m.compile(optimizer = Adam(lr), loss = tf.losses.BinaryCrossentropy(), metrics = ['accuracy'])"
   ]
  },
  {
   "cell_type": "code",
   "execution_count": 9,
   "id": "7005db47",
   "metadata": {},
   "outputs": [
    {
     "name": "stdout",
     "output_type": "stream",
     "text": [
      "Epoch 1/50\n",
      "43/43 [==============================] - 29s 535ms/step - loss: 0.1929 - accuracy: 0.9640 - val_loss: 0.0683 - val_accuracy: 0.9993\n",
      "Epoch 2/50\n",
      "43/43 [==============================] - 22s 504ms/step - loss: 0.0821 - accuracy: 1.0000 - val_loss: 0.0686 - val_accuracy: 0.9993\n",
      "Epoch 3/50\n",
      "43/43 [==============================] - 23s 530ms/step - loss: 0.0790 - accuracy: 1.0000 - val_loss: 0.0686 - val_accuracy: 0.9993\n",
      "Epoch 4/50\n",
      "43/43 [==============================] - 22s 517ms/step - loss: 0.0773 - accuracy: 1.0000 - val_loss: 0.0685 - val_accuracy: 0.9993\n"
     ]
    }
   ],
   "source": [
    "hy = m.fit(t_x, t_y, epochs = ec, batch_size = batch_size, validation_data = (v_x, v_y), callbacks = [es, mck])"
   ]
  },
  {
   "cell_type": "code",
   "execution_count": 10,
   "id": "9ad81fe0",
   "metadata": {},
   "outputs": [
    {
     "name": "stdout",
     "output_type": "stream",
     "text": [
      "92/92 [==============================] - 4s 46ms/step - loss: 0.0606 - accuracy: 1.0000\n"
     ]
    },
    {
     "data": {
      "text/plain": [
       "[0.06061762943863869, 1.0]"
      ]
     },
     "execution_count": 10,
     "metadata": {},
     "output_type": "execute_result"
    }
   ],
   "source": [
    "m.evaluate(tt_x, tt_y)"
   ]
  },
  {
   "cell_type": "code",
   "execution_count": 13,
   "id": "63c3301b",
   "metadata": {},
   "outputs": [
    {
     "data": {
      "image/png": "[encoded data removed]",
      "text/plain": [
       "<Figure size 432x288 with 1 Axes>"
      ]
     },
     "metadata": {
      "needs_background": "light"
     },
     "output_type": "display_data"
    }
   ],
   "source": [
    "plt.plot(hy.history['loss'], label = 'loss')\n",
    "plt.plot(hy.history['val_loss'], label = 'val_loss')\n",
    "plt.show()"
   ]
  },
  {
   "cell_type": "code",
   "execution_count": null,
   "id": "1ff797d9",
   "metadata": {},
   "outputs": [],
   "source": []
  }
 ],
 "metadata": {
  "kernelspec": {
   "display_name": "Python 3 (ipykernel)",
   "language": "python",
   "name": "python3"
  },
  "language_info": {
   "codemirror_mode": {
    "name": "ipython",
    "version": 3
   },
   "file_extension": ".py",
   "mimetype": "text/x-python",
   "name": "python",
   "nbconvert_exporter": "python",
   "pygments_lexer": "ipython3",
   "version": "3.9.7"
  }
 },
 "nbformat": 4,
 "nbformat_minor": 5
}
