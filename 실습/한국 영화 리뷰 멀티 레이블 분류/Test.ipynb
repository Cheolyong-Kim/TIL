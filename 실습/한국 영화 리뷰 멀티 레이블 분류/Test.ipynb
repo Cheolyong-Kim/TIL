{
 "cells": [
  {
   "cell_type": "code",
   "execution_count": 35,
   "id": "be55e59d",
   "metadata": {},
   "outputs": [],
   "source": [
    "import pickle\n",
    "from konlpy.tag import Okt\n",
    "from tensorflow.keras.preprocessing.sequence import pad_sequences\n",
    "from tensorflow.keras.models import load_model\n",
    "from pykospacing import Spacing\n",
    "import numpy as np"
   ]
  },
  {
   "cell_type": "code",
   "execution_count": 2,
   "id": "4887c2b2",
   "metadata": {},
   "outputs": [],
   "source": [
    "with open('preprocessed_data.pickle', 'rb') as fr:\n",
    "    data = pickle.load(fr)"
   ]
  },
  {
   "cell_type": "code",
   "execution_count": 3,
   "id": "8b481052",
   "metadata": {},
   "outputs": [],
   "source": [
    "tk = data['token']\n",
    "max_sentence_len = data['sentence_len']\n",
    "st = data['stop_words']"
   ]
  },
  {
   "cell_type": "code",
   "execution_count": 4,
   "id": "5d48c6b3",
   "metadata": {},
   "outputs": [],
   "source": [
    "loaded_model = load_model('best_m.h5')"
   ]
  },
  {
   "cell_type": "code",
   "execution_count": 60,
   "id": "a7501768",
   "metadata": {},
   "outputs": [],
   "source": [
    "def print_result(t):\n",
    "    okt = Okt()\n",
    "    spacing = Spacing()\n",
    "    t.replace('[^ㄱ-ㅎ ㅏ-ㅣ 가-힣]', '')\n",
    "    t = spacing(t)\n",
    "    t = okt.morphs(t)\n",
    "    t = [w for w in t if w not in st]\n",
    "    t = tk.texts_to_sequences([t])\n",
    "    t = pad_sequences(t, maxlen = max_sentence_len)\n",
    "    score = loaded_model.predict(t)\n",
    "\n",
    "    if score[0][0] > 0.5:\n",
    "        print(f'{score[0][0] * 100:.2f}% 확률로 toxic 리뷰입니다.')\n",
    "    if score[0][1] > 0.5:\n",
    "        print(f'{score[0][1] * 100:.2f}% 확률로 obscene 리뷰입니다.')\n",
    "    if score[0][2] > 0.5:\n",
    "        print(f'{score[0][2] * 100:.2f}% 확률로 threat 리뷰입니다.')\n",
    "    if score[0][3] > 0.5:\n",
    "        print(f'{score[0][3] * 100:.2f}% 확률로 insult 리뷰입니다.')\n",
    "    if score[0][4] > 0.5:\n",
    "        print(f'{score[0][4] * 100:.2f}% 확률로 hate 리뷰입니다.')"
   ]
  },
  {
   "cell_type": "code",
   "execution_count": 62,
   "id": "898145d6",
   "metadata": {},
   "outputs": [
    {
     "name": "stdout",
     "output_type": "stream",
     "text": [
      "99.75% 확률로 toxic 리뷰입니다.\n"
     ]
    }
   ],
   "source": [
    "print_result('제시카 알바가 벗고 달려드는데 쌩까는게 말이 되냐?')"
   ]
  },
  {
   "cell_type": "code",
   "execution_count": null,
   "id": "c9bd2119",
   "metadata": {},
   "outputs": [],
   "source": []
  }
 ],
 "metadata": {
  "kernelspec": {
   "display_name": "Python 3 (ipykernel)",
   "language": "python",
   "name": "python3"
  },
  "language_info": {
   "codemirror_mode": {
    "name": "ipython",
    "version": 3
   },
   "file_extension": ".py",
   "mimetype": "text/x-python",
   "name": "python",
   "nbconvert_exporter": "python",
   "pygments_lexer": "ipython3",
   "version": "3.9.7"
  }
 },
 "nbformat": 4,
 "nbformat_minor": 5
}
